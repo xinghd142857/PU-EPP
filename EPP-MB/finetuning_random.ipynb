{
 "cells": [
  {
   "cell_type": "markdown",
   "id": "900c37c1",
   "metadata": {},
   "source": [
    "**For Fine-tuning**\n",
    "===\n",
    "> -*- coding: utf-8 -*-\n",
    "\n",
    "> Author: xinghd\n",
    "> Author: liudongliang\n"
   ]
  },
  {
   "cell_type": "markdown",
   "id": "294d137c",
   "metadata": {},
   "source": [
    "## Import libraries"
   ]
  },
  {
   "cell_type": "code",
   "execution_count": 1,
   "id": "2b0a31dc",
   "metadata": {
    "ExecuteTime": {
     "end_time": "2023-12-27T18:12:15.439880Z",
     "start_time": "2023-12-27T18:12:14.578450Z"
    }
   },
   "outputs": [],
   "source": [
    "from utils.utils import Trainer, Predictor, TrainReader,TestReader,PredictReader, data_collate, get_shuffle_data, collate_fn, seed_everything\n",
    "from model.model import Encoder, Decoder, ModelCat\n",
    "\n",
    "%reload_ext autoreload\n",
    "%autoreload 2"
   ]
  },
  {
   "cell_type": "code",
   "execution_count": 2,
   "id": "2860079c",
   "metadata": {
    "ExecuteTime": {
     "end_time": "2023-12-27T18:12:15.470034Z",
     "start_time": "2023-12-27T18:12:15.441257Z"
    }
   },
   "outputs": [],
   "source": [
    "import os\n",
    "import json\n",
    "import random\n",
    "import time\n",
    "import timeit\n",
    "import pickle\n",
    "import numpy as np\n",
    "import pandas as pd\n",
    "from rdkit import Chem\n",
    "from rdkit.Chem import Descriptors\n",
    "from torch import nn\n",
    "from sklearn.model_selection import train_test_split, StratifiedKFold, KFold\n",
    "import torch\n",
    "from torch.utils.data import DataLoader, random_split\n",
    "from utils.word2vec import seq_to_kmers, get_protein_embedding\n",
    "from gensim.models import Word2Vec\n",
    "from torch.utils import data as torch_data\n",
    "import warnings"
   ]
  },
  {
   "cell_type": "markdown",
   "id": "cda0b765",
   "metadata": {
    "tags": []
   },
   "source": [
    "### Parameters"
   ]
  },
  {
   "cell_type": "code",
   "execution_count": 3,
   "id": "6db220de",
   "metadata": {
    "ExecuteTime": {
     "end_time": "2023-12-27T18:12:15.500035Z",
     "start_time": "2023-12-27T18:12:15.470992Z"
    }
   },
   "outputs": [],
   "source": [
    "assert torch.cuda.is_available(), \"Must have a avaliable gpu\"\n",
    "\n",
    "class CFG :\n",
    "    # train dataset and test dataset\n",
    "    traindata_path = './fine_tuning/train_random.csv'\n",
    "    testdata_path = './fine_tuning/test_random.csv'\n",
    "    # epoch\n",
    "    EPOCHES = 20\n",
    "    # batch size\n",
    "    BATCH_SIZE = 1\n",
    "    \n",
    "    # learning rate\n",
    "    lr = 1e-5\n",
    "    # weight_decay\n",
    "    weight_decay = 1e-7\n",
    "    \n",
    "    # suffix of log/model filename\n",
    "    modelsave_file_suffix = 'funetuning_random.pt'\n",
    "    result_file_suffix = 'funetuning_log_random.txt'\n",
    "    \n",
    "    # create log file\n",
    "    result_file_path = './results/log/funetuning_log/'\n",
    "    # save_best_model(depends on AUC)\n",
    "    best_model_savepath = \"./model/model_funetuning_random/\"\n",
    "\n",
    "    \n",
    "    # use wandb(https://wandb.ai/)?\n",
    "    IFwandb = False\n",
    "    # data root\n",
    "    DATA_ROOT = r'./data/'\n",
    "    # save unlabel data that may be positive\n",
    "    U_m_P_savepath = r\"./data/U_m_P/\"\n",
    "    # word2vec model path\n",
    "    word2vec_path = './model/model_pretrained/word2vec_pretrained.model'\n",
    "    # pre_trained model path , if given None, training from scratch\n",
    "    state_dict_path = './model/model_pretrained/PU-EPP_pretrained.pt'\n",
    "    # Number CUDA Devices:\n",
    "    gpu_number = torch.cuda.device_count()\n",
    "    # DEVICE\n",
    "    DEVICE = torch.device('cuda:0')\n",
    "\n",
    "    \n",
    "    \n",
    "    # block layers\n",
    "    layer_num = 12\n",
    "    # The last dimension of the protein dataapt list --upgradable\n",
    "    protein_dim = 100\n",
    "    # The last dimension of the compound data\n",
    "    atom_dim = 46\n",
    "    # hidden dimension\n",
    "    hid_dim = 128\n",
    "    # norm_shape: layernorm parameter\n",
    "    norm_shape = 128\n",
    "    # ====================================================\n",
    "    # to create trainreader\n",
    "    # ====================================================\n",
    "    # if use pu learning\n",
    "    ifpu = True\n",
    "    # if use label smoothing\n",
    "    ifsmoothing = True\n",
    "\n",
    "    # start deleting data when auc value is greater than del_threshold\n",
    "    del_threshold=0.9\n",
    "\n",
    "    quantile = 0.9\n"
   ]
  },
  {
   "cell_type": "markdown",
   "id": "e6f2e2cc-78fa-4b60-b01c-ed81ddc1f574",
   "metadata": {},
   "source": [
    "## WandB"
   ]
  },
  {
   "cell_type": "code",
   "execution_count": 4,
   "id": "215c6165-78ad-4bf3-86e2-d2e832d0e925",
   "metadata": {
    "ExecuteTime": {
     "end_time": "2023-12-27T18:12:15.516767Z",
     "start_time": "2023-12-27T18:12:15.501433Z"
    }
   },
   "outputs": [],
   "source": [
    "if CFG.IFwandb:\n",
    "    import wandb\n",
    "    wandb.login()\n",
    "    wandb.init(project='PU-EPP', name='finetuning')"
   ]
  },
  {
   "cell_type": "markdown",
   "id": "feaa424f",
   "metadata": {},
   "source": [
    "## Parameters"
   ]
  },
  {
   "cell_type": "markdown",
   "id": "cc5e64bf",
   "metadata": {},
   "source": [
    "### Random Seed"
   ]
  },
  {
   "cell_type": "code",
   "execution_count": 5,
   "id": "3299feb0",
   "metadata": {
    "ExecuteTime": {
     "end_time": "2023-12-27T18:12:15.532691Z",
     "start_time": "2023-12-27T18:12:15.517676Z"
    }
   },
   "outputs": [],
   "source": [
    "seed_everything(seed=42)"
   ]
  },
  {
   "cell_type": "markdown",
   "id": "84547467",
   "metadata": {},
   "source": [
    "## Model"
   ]
  },
  {
   "cell_type": "code",
   "execution_count": 6,
   "id": "4e8402f3",
   "metadata": {
    "ExecuteTime": {
     "end_time": "2023-12-27T18:12:17.152066Z",
     "start_time": "2023-12-27T18:12:15.533589Z"
    }
   },
   "outputs": [],
   "source": [
    "encoder = Encoder(CFG.protein_dim, CFG.hid_dim, CFG.norm_shape)\n",
    "decoder = Decoder(CFG.atom_dim, CFG.hid_dim, CFG.norm_shape)\n",
    "model = ModelCat(encoder, decoder, atom_dim=CFG.atom_dim)\n",
    "model = model.to(CFG.DEVICE)\n",
    "model = nn.DataParallel(model, device_ids = list(range(CFG.gpu_number)))"
   ]
  },
  {
   "cell_type": "code",
   "execution_count": 7,
   "id": "1d0a2e68-9e45-4b41-9c88-82d29bd95272",
   "metadata": {
    "ExecuteTime": {
     "end_time": "2023-12-27T18:12:17.230165Z",
     "start_time": "2023-12-27T18:12:17.153134Z"
    }
   },
   "outputs": [
    {
     "data": {
      "text/plain": [
       "<All keys matched successfully>"
      ]
     },
     "execution_count": 7,
     "metadata": {},
     "output_type": "execute_result"
    }
   ],
   "source": [
    "model.load_state_dict(torch.load(CFG.state_dict_path, map_location=CFG.DEVICE))"
   ]
  },
  {
   "cell_type": "code",
   "execution_count": 8,
   "id": "93b60b12-fa1b-453b-b8f1-41ff9c49ef87",
   "metadata": {
    "ExecuteTime": {
     "end_time": "2023-12-27T18:12:17.246455Z",
     "start_time": "2023-12-27T18:12:17.231247Z"
    }
   },
   "outputs": [],
   "source": [
    "if CFG.IFwandb:\n",
    "    wandb.watch(model, log='all')"
   ]
  },
  {
   "cell_type": "markdown",
   "id": "943f0327",
   "metadata": {},
   "source": [
    "## Trainer"
   ]
  },
  {
   "cell_type": "code",
   "execution_count": 9,
   "id": "3a932341",
   "metadata": {
    "ExecuteTime": {
     "end_time": "2023-12-27T18:12:17.264001Z",
     "start_time": "2023-12-27T18:12:17.247577Z"
    }
   },
   "outputs": [],
   "source": [
    "\"\"\" create trainer \"\"\"\n",
    "# /utils/builder.py\n",
    "trainer = Trainer(model, CFG) #trainfirst=False"
   ]
  },
  {
   "cell_type": "markdown",
   "id": "fbd0f443",
   "metadata": {},
   "source": [
    "## Dataset & Dataloader"
   ]
  },
  {
   "cell_type": "code",
   "execution_count": 10,
   "id": "1931bd32",
   "metadata": {
    "ExecuteTime": {
     "end_time": "2023-12-27T18:12:17.285926Z",
     "start_time": "2023-12-27T18:12:17.265764Z"
    }
   },
   "outputs": [],
   "source": [
    "trainset = pd.read_csv(CFG.traindata_path)\n",
    "testset = pd.read_csv(CFG.testdata_path)\n",
    "\n"
   ]
  },
  {
   "cell_type": "markdown",
   "id": "cbff8bcd",
   "metadata": {},
   "source": [
    "### Dataloader"
   ]
  },
  {
   "cell_type": "code",
   "execution_count": 11,
   "id": "ea834f6e",
   "metadata": {
    "ExecuteTime": {
     "end_time": "2023-12-27T18:12:17.437508Z",
     "start_time": "2023-12-27T18:12:17.286880Z"
    }
   },
   "outputs": [
    {
     "data": {
      "text/plain": [
       "' if the pre-trained word2vec model does not include all amino acid embedding of the enzymes in your dataset, please re-train the word2vec model on your dataset'"
      ]
     },
     "execution_count": 11,
     "metadata": {},
     "output_type": "execute_result"
    }
   ],
   "source": [
    "traindata = TrainReader(data=trainset,U_m_P_savepath=CFG.U_m_P_savepath,\n",
    "                                word2vec_path=CFG.word2vec_path, ifpu=CFG.ifpu)\n",
    "testdata = TestReader(data=testset, word2vec_path=CFG.word2vec_path)\n",
    "\n",
    "''' if the pre-trained word2vec model does not include all amino acid embedding of the enzymes in your dataset, please re-train the word2vec model on your dataset'''\n",
    "\n",
    "# train_word2vec(list(traindata['Protein'].unique()) + list(testdata['Protein'].unique()), './model/model_pretrained/word2vec_yourself.model') \n",
    "\n",
    "# CFG.word2vec_path = './model/model_pretrained/word2vec_yourself.model' \n",
    "\n"
   ]
  },
  {
   "cell_type": "code",
   "execution_count": 12,
   "id": "be5d34f3",
   "metadata": {
    "ExecuteTime": {
     "end_time": "2023-12-27T18:12:17.453945Z",
     "start_time": "2023-12-27T18:12:17.438569Z"
    }
   },
   "outputs": [],
   "source": [
    "val_dataloader = DataLoader(testdata, batch_size=CFG.BATCH_SIZE,collate_fn=collate_fn)"
   ]
  },
  {
   "cell_type": "markdown",
   "id": "e161fef1",
   "metadata": {},
   "source": [
    "## Train"
   ]
  },
  {
   "cell_type": "code",
   "execution_count": 13,
   "id": "d7c11afc",
   "metadata": {
    "ExecuteTime": {
     "end_time": "2023-12-27T18:12:17.470973Z",
     "start_time": "2023-12-27T18:12:17.455204Z"
    }
   },
   "outputs": [],
   "source": [
    "file_model = CFG.modelsave_file_suffix\n",
    "reshead = 'Epoch\\tTime(sec)\\tLoss_train\\tAUC_dev\\tPre\\tRecall\\tPRC_dev'\n",
    "file_res = CFG.result_file_path+CFG.result_file_suffix\n",
    "if os.path.exists(file_res):\n",
    "    warnings.warn(\"----------------file name duplicate-----------------\")\n",
    "else:\n",
    "    with open(file_res, 'w') as f:\n",
    "        f.write(reshead + '\\n')"
   ]
  },
  {
   "cell_type": "code",
   "execution_count": null,
   "id": "23271d33-460e-40d3-b8a2-b2aa13acec76",
   "metadata": {},
   "outputs": [],
   "source": []
  },
  {
   "cell_type": "code",
   "execution_count": 14,
   "id": "c48cfb54",
   "metadata": {
    "ExecuteTime": {
     "end_time": "2023-12-27T18:29:31.275677Z",
     "start_time": "2023-12-27T18:12:17.471935Z"
    },
    "tags": []
   },
   "outputs": [
    {
     "name": "stdout",
     "output_type": "stream",
     "text": [
      "epoch: 0\n",
      "Training........................\n",
      "0\t52.70385742199869\t430.3982539176941\t0.7386569872958257\t0.5681818181818182\t0.6578947368421053\t0.717953466719069\n",
      "epoch: 1\n",
      "Training........................\n",
      "1\t51.8513990820029\t408.2514324784279\t0.7114337568058077\t0.5652173913043478\t0.6842105263157895\t0.702075391489943\n",
      "epoch: 2\n",
      "Training........................\n",
      "2\t51.28487097799734\t387.5357081592083\t0.7649727767695099\t0.5918367346938775\t0.7631578947368421\t0.7098820901812924\n",
      "epoch: 3\n",
      "Training........................\n",
      "3\t51.62673168699985\t376.63840341567993\t0.7250453720508166\t0.5652173913043478\t0.6842105263157895\t0.5999417542932529\n",
      "epoch: 4\n",
      "Training........................\n",
      "4\t51.64561548900019\t368.4258399605751\t0.7173321234119782\t0.5510204081632653\t0.7105263157894737\t0.6221122346572264\n",
      "epoch: 5\n",
      "Training........................\n",
      "5\t51.73597335299928\t364.8502376675606\t0.8362068965517242\t0.5964912280701754\t0.8947368421052632\t0.7675347438845863\n",
      "epoch: 6\n",
      "Training........................\n",
      "6\t51.70021115599957\t372.6897875070572\t0.8194192377495463\t0.6166666666666667\t0.9736842105263158\t0.6995424688435475\n",
      "epoch: 7\n",
      "Training........................\n",
      "7\t51.83013332900009\t356.31663876771927\t0.8176043557168784\t0.6271186440677966\t0.9736842105263158\t0.7155584506122472\n",
      "epoch: 8\n",
      "Training........................\n",
      "8\t52.16963172600299\t354.0328865349293\t0.8352994555353902\t0.6140350877192983\t0.9210526315789473\t0.7286446731762928\n",
      "epoch: 9\n",
      "Training........................\n",
      "9\t52.17826120799873\t352.54618814587593\t0.808076225045372\t0.5961538461538461\t0.8157894736842105\t0.674140601655934\n",
      "epoch: 10\n",
      "Training........................\n",
      "10\t51.57851942400157\t339.55706292390823\t0.8216878402903812\t0.6545454545454545\t0.9473684210526315\t0.6730820227514526\n",
      "epoch: 11\n",
      "Training........................\n",
      "11\t51.495781515001\t338.55668607354164\t0.7409255898366606\t0.5555555555555556\t0.6578947368421053\t0.5741169747502606\n",
      "epoch: 12\n",
      "Training........................\n",
      "12\t50.836261431999446\t325.7375793159008\t0.8030852994555353\t0.58\t0.7631578947368421\t0.6865674273628641\n",
      "epoch: 13\n",
      "Training........................\n",
      "13\t51.46012620499823\t324.8447198867798\t0.8697822141560798\t0.6379310344827587\t0.9736842105263158\t0.7802603522658148\n",
      "del 13:0\n",
      "epoch: 14\n",
      "Training........................\n",
      "14\t51.52515130399843\t321.8816478252411\t0.8017241379310345\t0.5952380952380952\t0.6578947368421053\t0.6807742901024562\n",
      "epoch: 15\n",
      "Training........................\n",
      "15\t51.0617484109971\t300.83646208047867\t0.8198729582577131\t0.62\t0.8157894736842105\t0.6787920807826812\n",
      "epoch: 16\n",
      "Training........................\n",
      "16\t51.57408832299916\t288.696768194437\t0.8180580762250453\t0.66\t0.868421052631579\t0.6873493727249702\n",
      "epoch: 17\n",
      "Training........................\n",
      "17\t50.772401209000236\t304.2987840771675\t0.8706896551724138\t0.660377358490566\t0.9210526315789473\t0.7868933549268684\n",
      "del 17:1\n",
      "epoch: 18\n",
      "Training........................\n",
      "18\t50.89597741899706\t298.2190566062927\t0.9183303085299455\t0.6481481481481481\t0.9210526315789473\t0.8793859231198343\n",
      "del 18:0\n",
      "epoch: 19\n",
      "Training........................\n",
      "19\t50.858009891999245\t294.1553130745888\t0.8643375680580762\t0.6666666666666666\t0.9473684210526315\t0.7700422958894646\n",
      "del 19:0\n"
     ]
    }
   ],
   "source": [
    "max_AUC_dev = 0\n",
    "for epoch in range(CFG.EPOCHES):\n",
    "    print('epoch: ' + str(epoch))\n",
    "    train_dataloader = DataLoader(traindata, batch_size=CFG.BATCH_SIZE, shuffle=True, collate_fn=collate_fn)\n",
    "\n",
    "    \"\"\"Start training.\"\"\"\n",
    "    print('Training........................')\n",
    "    torch.cuda.empty_cache()\n",
    "    start = timeit.default_timer()\n",
    "\n",
    "    loss_train, U_m_P = trainer.train(train_dataloader)\n",
    "    AUC_dev, precision, recall, PRC_dev = trainer.test(val_dataloader)\n",
    "\n",
    "    end = timeit.default_timer()\n",
    "    time = end - start\n",
    "    \n",
    "    reslist = [epoch, time, loss_train, AUC_dev, precision, recall, PRC_dev]\n",
    "    if CFG.IFwandb:\n",
    "        wandb.log({'loss_train':loss_train, \"AUC_dev\":AUC_dev, 'pre':precision, 'recall':recall, 'prc':PRC_dev})\n",
    "    trainer.save_AUCs(reslist, file_res)\n",
    "    if AUC_dev > max_AUC_dev:\n",
    "        trainer.save_model(model, f\"{CFG.best_model_savepath}_epoch{epoch}_{AUC_dev}.pt\")\n",
    "        max_AUC_dev = AUC_dev\n",
    "    print('\\t'.join(map(str, reslist)))\n",
    "\n",
    "    if AUC_dev > 0.85: #changed\n",
    "        print(f\"del {epoch}:{len(U_m_P)}\")\n",
    "        traindata.del_U(epoch, U_m_P)\n",
    "    else:\n",
    "        traindata.reset_T()\n",
    "    if epoch % 5 == 0:\n",
    "        trainer.save_model(model, f\"{CFG.best_model_savepath}_epoch{epoch}_{AUC_dev}.pt\")\n",
    "    torch.cuda.empty_cache()"
   ]
  },
  {
   "cell_type": "code",
   "execution_count": 15,
   "id": "f6f57580-3edc-451e-bccc-4aa69c6180bc",
   "metadata": {
    "ExecuteTime": {
     "end_time": "2023-12-27T18:29:31.293654Z",
     "start_time": "2023-12-27T18:29:31.276786Z"
    }
   },
   "outputs": [
    {
     "data": {
      "text/plain": [
       "0.9183303085299455"
      ]
     },
     "execution_count": 15,
     "metadata": {},
     "output_type": "execute_result"
    }
   ],
   "source": [
    "max_AUC_dev"
   ]
  },
  {
   "cell_type": "code",
   "execution_count": null,
   "id": "3459bae6",
   "metadata": {},
   "outputs": [],
   "source": []
  }
 ],
 "metadata": {
  "kernelspec": {
   "display_name": "Python 3 (ipykernel)",
   "language": "python",
   "name": "python3"
  },
  "language_info": {
   "codemirror_mode": {
    "name": "ipython",
    "version": 3
   },
   "file_extension": ".py",
   "mimetype": "text/x-python",
   "name": "python",
   "nbconvert_exporter": "python",
   "pygments_lexer": "ipython3",
   "version": "3.8.12"
  },
  "toc": {
   "base_numbering": 1,
   "nav_menu": {},
   "number_sections": true,
   "sideBar": true,
   "skip_h1_title": false,
   "title_cell": "Table of Contents",
   "title_sidebar": "Contents",
   "toc_cell": false,
   "toc_position": {},
   "toc_section_display": true,
   "toc_window_display": false
  },
  "varInspector": {
   "cols": {
    "lenName": 16,
    "lenType": 16,
    "lenVar": 40
   },
   "kernels_config": {
    "python": {
     "delete_cmd_postfix": "",
     "delete_cmd_prefix": "del ",
     "library": "var_list.py",
     "varRefreshCmd": "print(var_dic_list())"
    },
    "r": {
     "delete_cmd_postfix": ") ",
     "delete_cmd_prefix": "rm(",
     "library": "var_list.r",
     "varRefreshCmd": "cat(var_dic_list()) "
    }
   },
   "types_to_exclude": [
    "module",
    "function",
    "builtin_function_or_method",
    "instance",
    "_Feature"
   ],
   "window_display": false
  },
  "vscode": {
   "interpreter": {
    "hash": "31f2aee4e71d21fbe5cf8b01ff0e069b9275f58929596ceb00d14d90e3e16cd6"
   }
  }
 },
 "nbformat": 4,
 "nbformat_minor": 5
}
