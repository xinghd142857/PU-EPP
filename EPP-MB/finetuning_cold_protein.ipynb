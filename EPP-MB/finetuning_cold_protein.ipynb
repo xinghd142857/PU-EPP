{
 "cells": [
  {
   "cell_type": "markdown",
   "id": "900c37c1",
   "metadata": {},
   "source": [
    "**For Fine-tuning**\n",
    "===\n",
    "> -*- coding: utf-8 -*-\n",
    "\n",
    "> Author: xinghd\n",
    "> Author: liudongliang\n"
   ]
  },
  {
   "cell_type": "markdown",
   "id": "294d137c",
   "metadata": {},
   "source": [
    "## Import libraries"
   ]
  },
  {
   "cell_type": "code",
   "execution_count": 1,
   "id": "2b0a31dc",
   "metadata": {
    "ExecuteTime": {
     "end_time": "2023-12-27T16:18:24.803930Z",
     "start_time": "2023-12-27T16:18:23.790601Z"
    }
   },
   "outputs": [],
   "source": [
    "from utils.utils import Trainer, Predictor, TrainReader,TestReader,PredictReader, data_collate, get_shuffle_data, collate_fn, seed_everything\n",
    "from model.model import Encoder, Decoder, ModelCat\n",
    "\n",
    "%reload_ext autoreload\n",
    "%autoreload 2"
   ]
  },
  {
   "cell_type": "code",
   "execution_count": 40,
   "id": "2860079c",
   "metadata": {
    "ExecuteTime": {
     "end_time": "2023-12-27T17:07:19.545948Z",
     "start_time": "2023-12-27T17:07:19.528339Z"
    }
   },
   "outputs": [],
   "source": [
    "import os\n",
    "import json\n",
    "import random\n",
    "import time\n",
    "import timeit\n",
    "import pickle\n",
    "import numpy as np\n",
    "import pandas as pd\n",
    "from rdkit import Chem\n",
    "from rdkit.Chem import Descriptors\n",
    "from torch import nn\n",
    "from sklearn.model_selection import train_test_split, StratifiedKFold, KFold\n",
    "import torch\n",
    "from torch.utils.data import DataLoader, random_split\n",
    "from utils.word2vec import seq_to_kmers, get_protein_embedding\n",
    "from gensim.models import Word2Vec\n",
    "from torch.utils import data as torch_data\n",
    "import warnings"
   ]
  },
  {
   "cell_type": "markdown",
   "id": "cda0b765",
   "metadata": {
    "tags": []
   },
   "source": [
    "### Parameters"
   ]
  },
  {
   "cell_type": "code",
   "execution_count": 41,
   "id": "6db220de",
   "metadata": {
    "ExecuteTime": {
     "end_time": "2023-12-27T17:07:20.880702Z",
     "start_time": "2023-12-27T17:07:20.862027Z"
    }
   },
   "outputs": [],
   "source": [
    "assert torch.cuda.is_available(), \"Must have a avaliable gpu\"\n",
    "\n",
    "class CFG :\n",
    "    # train dataset and test dataset\n",
    "    traindata_path = './fine_tuning/train_cold_protein.csv'\n",
    "    testdata_path = './fine_tuning/test_cold_protein.csv'\n",
    "    # epoch\n",
    "    EPOCHES = 20\n",
    "    # batch size\n",
    "    BATCH_SIZE = 1\n",
    "    \n",
    "    # learning rate\n",
    "    lr = 1e-5\n",
    "    # weight_decay\n",
    "    weight_decay = 1e-7\n",
    "    \n",
    "    # suffix of log/model filename\n",
    "    modelsave_file_suffix = 'funetuning_cold_protein.pt'\n",
    "    result_file_suffix = 'funetuning_log_cold_protein.txt'\n",
    "    \n",
    "    # create log file\n",
    "    result_file_path = './results/log/funetuning_log/'\n",
    "    # save_best_model(depends on AUC)\n",
    "    best_model_savepath = \"./model/model_funetuning_cold_protein/\"\n",
    "\n",
    "    \n",
    "    # use wandb(https://wandb.ai/)?\n",
    "    IFwandb = False\n",
    "    # data root\n",
    "    DATA_ROOT = r'./data/'\n",
    "    # save unlabel data that may be positive\n",
    "    U_m_P_savepath = r\"./data/U_m_P/\"\n",
    "    # word2vec model path\n",
    "    word2vec_path = './model/model_pretrained/word2vec_pretrained.model'\n",
    "    # pre_trained model path , if given None, training from scratch\n",
    "    state_dict_path = './model/model_pretrained/PU-EPP_pretrained.pt'\n",
    "    # Number CUDA Devices:\n",
    "    gpu_number = torch.cuda.device_count()\n",
    "    # DEVICE\n",
    "    DEVICE = torch.device('cuda:0')\n",
    "\n",
    "    \n",
    "    \n",
    "    # block layers\n",
    "    layer_num = 12\n",
    "    # The last dimension of the protein dataapt list --upgradable\n",
    "    protein_dim = 100\n",
    "    # The last dimension of the compound data\n",
    "    atom_dim = 46\n",
    "    # hidden dimension\n",
    "    hid_dim = 128\n",
    "    # norm_shape: layernorm parameter\n",
    "    norm_shape = 128\n",
    "    # ====================================================\n",
    "    # to create trainreader\n",
    "    # ====================================================\n",
    "    # if use pu learning\n",
    "    ifpu = True\n",
    "    # if use label smoothing\n",
    "    ifsmoothing = True\n",
    "\n",
    "    # start deleting data when auc value is greater than del_threshold\n",
    "    del_threshold=0.9\n",
    "\n",
    "    quantile = 0.9\n"
   ]
  },
  {
   "cell_type": "markdown",
   "id": "e6f2e2cc-78fa-4b60-b01c-ed81ddc1f574",
   "metadata": {},
   "source": [
    "## WandB"
   ]
  },
  {
   "cell_type": "code",
   "execution_count": 42,
   "id": "215c6165-78ad-4bf3-86e2-d2e832d0e925",
   "metadata": {
    "ExecuteTime": {
     "end_time": "2023-12-27T17:07:22.142532Z",
     "start_time": "2023-12-27T17:07:22.126255Z"
    }
   },
   "outputs": [],
   "source": [
    "if CFG.IFwandb:\n",
    "    import wandb\n",
    "    wandb.login()\n",
    "    wandb.init(project='PU-EPP', name='finetuning')"
   ]
  },
  {
   "cell_type": "markdown",
   "id": "feaa424f",
   "metadata": {},
   "source": [
    "## Parameters"
   ]
  },
  {
   "cell_type": "markdown",
   "id": "cc5e64bf",
   "metadata": {},
   "source": [
    "### Random Seed"
   ]
  },
  {
   "cell_type": "code",
   "execution_count": 43,
   "id": "3299feb0",
   "metadata": {
    "ExecuteTime": {
     "end_time": "2023-12-27T17:07:23.790079Z",
     "start_time": "2023-12-27T17:07:23.773950Z"
    }
   },
   "outputs": [],
   "source": [
    "seed_everything(seed=42)"
   ]
  },
  {
   "cell_type": "markdown",
   "id": "84547467",
   "metadata": {},
   "source": [
    "## Model"
   ]
  },
  {
   "cell_type": "code",
   "execution_count": 44,
   "id": "4e8402f3",
   "metadata": {
    "ExecuteTime": {
     "end_time": "2023-12-27T17:07:24.612075Z",
     "start_time": "2023-12-27T17:07:24.542242Z"
    }
   },
   "outputs": [],
   "source": [
    "encoder = Encoder(CFG.protein_dim, CFG.hid_dim, CFG.norm_shape)\n",
    "decoder = Decoder(CFG.atom_dim, CFG.hid_dim, CFG.norm_shape)\n",
    "model = ModelCat(encoder, decoder, atom_dim=CFG.atom_dim)\n",
    "model = model.to(CFG.DEVICE)\n",
    "model = nn.DataParallel(model, device_ids = list(range(CFG.gpu_number)))"
   ]
  },
  {
   "cell_type": "code",
   "execution_count": 45,
   "id": "1d0a2e68-9e45-4b41-9c88-82d29bd95272",
   "metadata": {
    "ExecuteTime": {
     "end_time": "2023-12-27T17:07:25.048019Z",
     "start_time": "2023-12-27T17:07:24.957427Z"
    }
   },
   "outputs": [
    {
     "data": {
      "text/plain": [
       "<All keys matched successfully>"
      ]
     },
     "execution_count": 45,
     "metadata": {},
     "output_type": "execute_result"
    }
   ],
   "source": [
    "model.load_state_dict(torch.load(CFG.state_dict_path, map_location=CFG.DEVICE))"
   ]
  },
  {
   "cell_type": "code",
   "execution_count": 46,
   "id": "93b60b12-fa1b-453b-b8f1-41ff9c49ef87",
   "metadata": {
    "ExecuteTime": {
     "end_time": "2023-12-27T17:07:25.399032Z",
     "start_time": "2023-12-27T17:07:25.381720Z"
    }
   },
   "outputs": [],
   "source": [
    "if CFG.IFwandb:\n",
    "    wandb.watch(model, log='all')"
   ]
  },
  {
   "cell_type": "markdown",
   "id": "943f0327",
   "metadata": {},
   "source": [
    "## Trainer"
   ]
  },
  {
   "cell_type": "code",
   "execution_count": 47,
   "id": "3a932341",
   "metadata": {
    "ExecuteTime": {
     "end_time": "2023-12-27T17:07:26.193076Z",
     "start_time": "2023-12-27T17:07:26.173772Z"
    }
   },
   "outputs": [],
   "source": [
    "\"\"\" create trainer \"\"\"\n",
    "# /utils/builder.py\n",
    "trainer = Trainer(model, CFG) #trainfirst=False"
   ]
  },
  {
   "cell_type": "markdown",
   "id": "fbd0f443",
   "metadata": {},
   "source": [
    "## Dataset & Dataloader"
   ]
  },
  {
   "cell_type": "code",
   "execution_count": 48,
   "id": "1931bd32",
   "metadata": {
    "ExecuteTime": {
     "end_time": "2023-12-27T17:07:27.026505Z",
     "start_time": "2023-12-27T17:07:27.005697Z"
    }
   },
   "outputs": [],
   "source": [
    "trainset = pd.read_csv(CFG.traindata_path)\n",
    "testset = pd.read_csv(CFG.testdata_path)\n",
    "\n"
   ]
  },
  {
   "cell_type": "markdown",
   "id": "cbff8bcd",
   "metadata": {},
   "source": [
    "### Dataloader"
   ]
  },
  {
   "cell_type": "code",
   "execution_count": 49,
   "id": "ea834f6e",
   "metadata": {
    "ExecuteTime": {
     "end_time": "2023-12-27T17:07:28.028631Z",
     "start_time": "2023-12-27T17:07:27.877994Z"
    }
   },
   "outputs": [
    {
     "data": {
      "text/plain": [
       "' if the pre-trained word2vec model does not include all amino acid embedding of the enzymes in your dataset, please re-train the word2vec model on your dataset'"
      ]
     },
     "execution_count": 49,
     "metadata": {},
     "output_type": "execute_result"
    }
   ],
   "source": [
    "traindata = TrainReader(data=trainset,U_m_P_savepath=CFG.U_m_P_savepath,\n",
    "                                word2vec_path=CFG.word2vec_path, ifpu=CFG.ifpu)\n",
    "testdata = TestReader(data=testset, word2vec_path=CFG.word2vec_path)\n",
    "\n",
    "''' if the pre-trained word2vec model does not include all amino acid embedding of the enzymes in your dataset, please re-train the word2vec model on your dataset'''\n",
    "\n",
    "# train_word2vec(list(traindata['Protein'].unique()) + list(testdata['Protein'].unique()), './model/model_pretrained/word2vec_yourself.model') \n",
    "\n",
    "# CFG.word2vec_path = './model/model_pretrained/word2vec_yourself.model' \n",
    "\n"
   ]
  },
  {
   "cell_type": "code",
   "execution_count": 50,
   "id": "be5d34f3",
   "metadata": {
    "ExecuteTime": {
     "end_time": "2023-12-27T17:07:29.126257Z",
     "start_time": "2023-12-27T17:07:29.110181Z"
    }
   },
   "outputs": [],
   "source": [
    "val_dataloader = DataLoader(testdata, batch_size=CFG.BATCH_SIZE,collate_fn=collate_fn)"
   ]
  },
  {
   "cell_type": "markdown",
   "id": "e161fef1",
   "metadata": {},
   "source": [
    "## Train"
   ]
  },
  {
   "cell_type": "code",
   "execution_count": 51,
   "id": "d7c11afc",
   "metadata": {
    "ExecuteTime": {
     "end_time": "2023-12-27T17:07:30.102198Z",
     "start_time": "2023-12-27T17:07:30.085961Z"
    }
   },
   "outputs": [
    {
     "name": "stderr",
     "output_type": "stream",
     "text": [
      "/tmp/ipykernel_53091/4157713986.py:5: UserWarning: ----------------file name duplicate-----------------\n",
      "  warnings.warn(\"----------------file name duplicate-----------------\")\n"
     ]
    }
   ],
   "source": [
    "file_model = CFG.modelsave_file_suffix\n",
    "reshead = 'Epoch\\tTime(sec)\\tLoss_train\\tAUC_dev\\tPre\\tRecall\\tPRC_dev'\n",
    "file_res = CFG.result_file_path+CFG.result_file_suffix\n",
    "if os.path.exists(file_res):\n",
    "    warnings.warn(\"----------------file name duplicate-----------------\")\n",
    "else:\n",
    "    with open(file_res, 'w') as f:\n",
    "        f.write(reshead + '\\n')"
   ]
  },
  {
   "cell_type": "code",
   "execution_count": null,
   "id": "23271d33-460e-40d3-b8a2-b2aa13acec76",
   "metadata": {},
   "outputs": [],
   "source": []
  },
  {
   "cell_type": "code",
   "execution_count": 52,
   "id": "c48cfb54",
   "metadata": {
    "ExecuteTime": {
     "end_time": "2023-12-27T17:25:46.021989Z",
     "start_time": "2023-12-27T17:07:31.678232Z"
    },
    "tags": []
   },
   "outputs": [
    {
     "name": "stdout",
     "output_type": "stream",
     "text": [
      "epoch: 0\n",
      "Training........................\n",
      "0\t54.65413163600169\t436.14746540784836\t0.772134203168686\t0.627906976744186\t0.7297297297297297\t0.7245998293785705\n",
      "epoch: 1\n",
      "Training........................\n",
      "1\t54.51413597899955\t417.2627384066582\t0.83690587138863\t0.6666666666666666\t0.7027027027027027\t0.7384268687498414\n",
      "epoch: 2\n",
      "Training........................\n",
      "2\t54.73690145200089\t410.62338292598724\t0.8765144454799628\t0.6956521739130435\t0.8648648648648649\t0.7857915895098386\n",
      "del 2:0\n",
      "epoch: 3\n",
      "Training........................\n",
      "3\t53.396267136999086\t392.7713014483452\t0.8872320596458527\t0.6938775510204082\t0.918918918918919\t0.7778610957172352\n",
      "del 3:0\n",
      "epoch: 4\n",
      "Training........................\n",
      "4\t54.49071555000046\t366.5054925978184\t0.8974836905871388\t0.68\t0.918918918918919\t0.7806656840749842\n",
      "del 4:0\n",
      "epoch: 5\n",
      "Training........................\n",
      "5\t54.235008717998426\t374.77649423480034\t0.8979496738117427\t0.7142857142857143\t0.9459459459459459\t0.7633730184470466\n",
      "del 5:0\n",
      "epoch: 6\n",
      "Training........................\n",
      "6\t54.295035833998554\t374.7730369567871\t0.9091332712022366\t0.660377358490566\t0.9459459459459459\t0.7975970232685832\n",
      "del 6:0\n",
      "epoch: 7\n",
      "Training........................\n",
      "7\t53.851035265000974\t359.0599972307682\t0.9161230195712955\t0.6981132075471698\t1.0\t0.7970975358708781\n",
      "del 7:1\n",
      "epoch: 8\n",
      "Training........................\n",
      "8\t53.99945906100038\t361.37023398280144\t0.929636533084809\t0.7115384615384616\t1.0\t0.8290943547087164\n",
      "del 8:0\n",
      "epoch: 9\n",
      "Training........................\n",
      "9\t53.87243614600084\t353.3069793879986\t0.9217148182665424\t0.6851851851851852\t1.0\t0.81614951121103\n",
      "del 9:1\n",
      "epoch: 10\n",
      "Training........................\n",
      "10\t57.178848529998504\t350.3610381782055\t0.9198508853681266\t0.6792452830188679\t0.972972972972973\t0.870755734939469\n",
      "del 10:0\n",
      "epoch: 11\n",
      "Training........................\n",
      "11\t53.989977352001006\t364.458814650774\t0.9338303821062441\t0.6923076923076923\t0.972972972972973\t0.8796816051626952\n",
      "del 11:0\n",
      "epoch: 12\n",
      "Training........................\n",
      "12\t55.271013470999605\t340.96804478764534\t0.8923578751164958\t0.6956521739130435\t0.8648648648648649\t0.7971125388897662\n",
      "del 12:0\n",
      "epoch: 13\n",
      "Training........................\n",
      "13\t55.239067984999565\t337.30210867524147\t0.8890959925442685\t0.7272727272727273\t0.8648648648648649\t0.7914027221084194\n",
      "del 13:0\n",
      "epoch: 14\n",
      "Training........................\n",
      "14\t55.22161022399814\t338.83251336216927\t0.9091332712022367\t0.6730769230769231\t0.9459459459459459\t0.8171183256162033\n",
      "del 14:0\n",
      "epoch: 15\n",
      "Training........................\n",
      "15\t55.896808310997585\t335.5107060968876\t0.918452935694315\t0.723404255319149\t0.918918918918919\t0.8427918659616205\n",
      "del 15:1\n",
      "epoch: 16\n",
      "Training........................\n",
      "16\t53.58743777800191\t342.0663606226444\t0.924044734389562\t0.7906976744186046\t0.918918918918919\t0.8447305118577786\n",
      "del 16:0\n",
      "epoch: 17\n",
      "Training........................\n",
      "17\t53.869544459998\t333.7158589363098\t0.9370922646784716\t0.7346938775510204\t0.972972972972973\t0.8539449010773208\n",
      "del 17:0\n",
      "epoch: 18\n",
      "Training........................\n",
      "18\t54.16312860099788\t346.1712229549885\t0.9338303821062441\t0.6923076923076923\t0.972972972972973\t0.8519918883206821\n",
      "del 18:0\n",
      "epoch: 19\n",
      "Training........................\n",
      "19\t54.27192134099823\t343.0582989156246\t0.9384902143522833\t0.7115384615384616\t1.0\t0.8605149404755896\n",
      "del 19:0\n"
     ]
    }
   ],
   "source": [
    "max_AUC_dev = 0\n",
    "for epoch in range(CFG.EPOCHES):\n",
    "    print('epoch: ' + str(epoch))\n",
    "    train_dataloader = DataLoader(traindata, batch_size=CFG.BATCH_SIZE, shuffle=True, collate_fn=collate_fn)\n",
    "\n",
    "    \"\"\"Start training.\"\"\"\n",
    "    print('Training........................')\n",
    "    torch.cuda.empty_cache()\n",
    "    start = timeit.default_timer()\n",
    "\n",
    "    loss_train, U_m_P = trainer.train(train_dataloader)\n",
    "    AUC_dev, precision, recall, PRC_dev = trainer.test(val_dataloader)\n",
    "\n",
    "    end = timeit.default_timer()\n",
    "    time = end - start\n",
    "    \n",
    "    reslist = [epoch, time, loss_train, AUC_dev, precision, recall, PRC_dev]\n",
    "    if CFG.IFwandb:\n",
    "        wandb.log({'loss_train':loss_train, \"AUC_dev\":AUC_dev, 'pre':precision, 'recall':recall, 'prc':PRC_dev})\n",
    "    trainer.save_AUCs(reslist, file_res)\n",
    "    if AUC_dev > max_AUC_dev:\n",
    "        trainer.save_model(model, f\"{CFG.best_model_savepath}_epoch{epoch}_{AUC_dev}.pt\")\n",
    "        max_AUC_dev = AUC_dev\n",
    "    print('\\t'.join(map(str, reslist)))\n",
    "\n",
    "    if AUC_dev > 0.85: #changed\n",
    "        print(f\"del {epoch}:{len(U_m_P)}\")\n",
    "        traindata.del_U(epoch, U_m_P)\n",
    "    else:\n",
    "        traindata.reset_T()\n",
    "    if epoch % 5 == 0:\n",
    "        trainer.save_model(model, f\"{CFG.best_model_savepath}_epoch{epoch}_{AUC_dev}.pt\")\n",
    "    torch.cuda.empty_cache()"
   ]
  },
  {
   "cell_type": "code",
   "execution_count": 53,
   "id": "f6f57580-3edc-451e-bccc-4aa69c6180bc",
   "metadata": {
    "ExecuteTime": {
     "end_time": "2023-12-27T17:31:06.660647Z",
     "start_time": "2023-12-27T17:31:06.643502Z"
    }
   },
   "outputs": [
    {
     "data": {
      "text/plain": [
       "0.9384902143522833"
      ]
     },
     "execution_count": 53,
     "metadata": {},
     "output_type": "execute_result"
    }
   ],
   "source": [
    "max_AUC_dev"
   ]
  },
  {
   "cell_type": "code",
   "execution_count": null,
   "id": "3459bae6",
   "metadata": {},
   "outputs": [],
   "source": []
  }
 ],
 "metadata": {
  "kernelspec": {
   "display_name": "Python 3 (ipykernel)",
   "language": "python",
   "name": "python3"
  },
  "language_info": {
   "codemirror_mode": {
    "name": "ipython",
    "version": 3
   },
   "file_extension": ".py",
   "mimetype": "text/x-python",
   "name": "python",
   "nbconvert_exporter": "python",
   "pygments_lexer": "ipython3",
   "version": "3.8.12"
  },
  "toc": {
   "base_numbering": 1,
   "nav_menu": {},
   "number_sections": true,
   "sideBar": true,
   "skip_h1_title": false,
   "title_cell": "Table of Contents",
   "title_sidebar": "Contents",
   "toc_cell": false,
   "toc_position": {},
   "toc_section_display": true,
   "toc_window_display": false
  },
  "varInspector": {
   "cols": {
    "lenName": 16,
    "lenType": 16,
    "lenVar": 40
   },
   "kernels_config": {
    "python": {
     "delete_cmd_postfix": "",
     "delete_cmd_prefix": "del ",
     "library": "var_list.py",
     "varRefreshCmd": "print(var_dic_list())"
    },
    "r": {
     "delete_cmd_postfix": ") ",
     "delete_cmd_prefix": "rm(",
     "library": "var_list.r",
     "varRefreshCmd": "cat(var_dic_list()) "
    }
   },
   "types_to_exclude": [
    "module",
    "function",
    "builtin_function_or_method",
    "instance",
    "_Feature"
   ],
   "window_display": false
  },
  "vscode": {
   "interpreter": {
    "hash": "31f2aee4e71d21fbe5cf8b01ff0e069b9275f58929596ceb00d14d90e3e16cd6"
   }
  }
 },
 "nbformat": 4,
 "nbformat_minor": 5
}