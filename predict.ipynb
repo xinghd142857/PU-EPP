{
 "cells": [
  {
   "cell_type": "markdown",
   "id": "16f73038",
   "metadata": {},
   "source": [
    "**For Predicting**\n",
    "===\n",
    "> -*- coding: utf-8 -*-\n",
    "\n",
    "> Author: xinghd"
   ]
  },
  {
   "cell_type": "code",
   "execution_count": null,
   "id": "865d0c21-e2ff-4cd5-b44e-9d3fa25daef5",
   "metadata": {},
   "outputs": [],
   "source": [
    "from utils.utils import Trainer, Predictor, TrainReader,TestReader,PredictReader, data_collate, collate_fn, seed_everything\n",
    "from model.model import Encoder, Decoder, ModelCat\n",
    "\n",
    "%reload_ext autoreload\n",
    "%autoreload 2"
   ]
  },
  {
   "cell_type": "code",
   "execution_count": null,
   "id": "a829573a-472d-40f9-90d6-0b7927f887b4",
   "metadata": {},
   "outputs": [],
   "source": [
    "import os\n",
    "import json\n",
    "import random\n",
    "import time\n",
    "import timeit\n",
    "import pickle\n",
    "import numpy as np\n",
    "import pandas as pd\n",
    "from rdkit import Chem\n",
    "from rdkit.Chem import Descriptors\n",
    "from Bio import SeqIO\n",
    "from torch import nn\n",
    "from sklearn.model_selection import train_test_split, StratifiedKFold, KFold\n",
    "import torch\n",
    "from torch.utils.data import DataLoader, random_split\n",
    "from utils.word2vec import seq_to_kmers, get_protein_embedding\n",
    "from gensim.models import Word2Vec\n",
    "from torch.utils import data as torch_data\n",
    "import warnings"
   ]
  },
  {
   "cell_type": "code",
   "execution_count": null,
   "id": "c9fe0c10-4de6-4439-b2a9-71715b4ec97b",
   "metadata": {},
   "outputs": [],
   "source": [
    "seed_everything(seed=42)"
   ]
  },
  {
   "cell_type": "code",
   "execution_count": null,
   "id": "b28c3056-de92-4abf-bdf8-9a0619b0b5bf",
   "metadata": {},
   "outputs": [],
   "source": [
    "assert torch.cuda.is_available(), \"Must have a avaliable gpu\"\n",
    "\n",
    "class PreCFG :\n",
    "    useFasteFile = False\n",
    "    csvFile = './data/example2.csv' # Path to the .csv file of enzyme-substrate pairs\n",
    "     \n",
    "    if useFasteFile == True:\n",
    "        fasteFile = './data/example1.faste' # Path to the .faste file of candidate enzymes\n",
    "        compound = '' # The molecular structure of the substrate in simplified molecular input line entry system (SMILES) format\n",
    "    \n",
    "    # Data root\n",
    "    DATA_ROOT = r'./data/'\n",
    "    # Word2Vec model path\n",
    "    word2vec_path = './model/model_pretrained/word2vec_pretrained.model' \n",
    "    # Model path\n",
    "    state_dict_path = './model/model_pretrained/PU-EPP_pretrained.pt' \n",
    "    # Number CUDA Devices:\n",
    "    gpu_number = torch.cuda.device_count()\n",
    "    # Device \n",
    "    DEVICE = torch.device('cuda:0')\n",
    "    protein_dim = 100\n",
    "    atom_dim = 46\n",
    "    hid_dim = 128\n",
    "    norm_shape = 128\n",
    "    # Batch size\n",
    "    BATCH_SIZE = 4\n"
   ]
  },
  {
   "cell_type": "code",
   "execution_count": null,
   "id": "dfa1dfa4",
   "metadata": {},
   "outputs": [],
   "source": [
    "if PreCFG.useFasteFile:\n",
    "    assert PreCFG.fasteFile and PreCFG.compound, 'Please specify the molecular structure of the substrate and the file path to the fasteFile of candidate enzymes'\n",
    "else:\n",
    "    assert PreCFG.csvFile, 'Please specify the file path to the .csv file of enzyme-substrate pairse'"
   ]
  },
  {
   "cell_type": "code",
   "execution_count": null,
   "id": "e6db9cde-d4f5-4819-b30b-9490756554b1",
   "metadata": {},
   "outputs": [],
   "source": [
    "def get_model(cfg):\n",
    "    encoder = Encoder(cfg.protein_dim, cfg.hid_dim, cfg.norm_shape)\n",
    "    decoder = Decoder(cfg.atom_dim, cfg.hid_dim, cfg.norm_shape)\n",
    "    model = ModelCat(encoder, decoder)\n",
    "    model = model.to(cfg.DEVICE)\n",
    "    if cfg.gpu_number >= 1:\n",
    "        model = nn.DataParallel(model, device_ids = list(range(cfg.gpu_number)))\n",
    "    if cfg.state_dict_path is not None:\n",
    "        if os.path.exists(cfg.state_dict_path):\n",
    "            model.load_state_dict(torch.load(cfg.state_dict_path, map_location=cfg.DEVICE))\n",
    "            print('success load state dict')\n",
    "        else:\n",
    "            raise ValueError('Wrong path')\n",
    "    return model"
   ]
  },
  {
   "cell_type": "code",
   "execution_count": null,
   "id": "f9f8f15b-57c2-459a-b40d-5d75a1c31158",
   "metadata": {},
   "outputs": [],
   "source": [
    "if PreCFG.useFasteFile:\n",
    "    seq_dict = {rec.id : str(rec.seq) for rec in SeqIO.parse(PreCFG.fasteFile, \"fasta\")}\n",
    "    mapp = {str(rec.seq):rec.id for rec in SeqIO.parse(PreCFG.fasteFile, \"fasta\")}\n",
    "    seq = list(seq_dict.values())\n",
    "    com = PreCFG.compound\n",
    "    df = pd.DataFrame({'smiles':[com]*len(seq), 'seq':seq})\n",
    "else:\n",
    "    df = pd.read_csv(PreCFG.csvFile)\n",
    "df = df[df.Protein.map(lambda x: len(x)<=1500)].reset_index(drop=True)"
   ]
  },
  {
   "cell_type": "code",
   "execution_count": null,
   "id": "cd9c89e5-cbfe-47e8-a376-6cfd0478db9b",
   "metadata": {},
   "outputs": [],
   "source": [
    "predata = PredictReader(df, None, PreCFG. word2vec_path)\n",
    "model = get_model(PreCFG)\n",
    "pre = Predictor(model)\n",
    "test_dataloader = DataLoader(predata, batch_size=PreCFG.BATCH_SIZE,shuffle=False, collate_fn=collate_fn)"
   ]
  },
  {
   "cell_type": "code",
   "execution_count": null,
   "id": "9cdc222d-3b99-439f-987e-4e54cb926f87",
   "metadata": {},
   "outputs": [],
   "source": [
    "y, s = pre.predict(test_dataloader)\n",
    "res = df.copy()\n",
    "res['y_pre'] = y\n",
    "res['score'] = s\n",
    "res = res.drop(index=predata.weong_w2d.index)"
   ]
  },
  {
   "cell_type": "code",
   "execution_count": null,
   "id": "ce307698-0c56-4183-88c3-ff5a7030f685",
   "metadata": {},
   "outputs": [],
   "source": [
    "if PreCFG.useFasteFile:\n",
    "    res.insert(0,'id', [mapp[i] for i in res.seq])\n",
    "    result_name_pre = PreCFG.fasteFile.split('/')[-1][:-6]\n",
    "else:\n",
    "    result_name_pre = PreCFG.csvFile.split('/')[-1][:-4]\n",
    "res.to_csv(f'./results/{result_name_pre}_result.csv', index=False)"
   ]
  },
  {
   "cell_type": "code",
   "execution_count": null,
   "id": "49a32064-5720-48b6-9cc6-03fb4ac9f258",
   "metadata": {},
   "outputs": [],
   "source": [
    "# res[['id','seq', 'y_pre', 'score' ]].sort_values(by=['score'], ascending=False)"
   ]
  }
 ],
 "metadata": {
  "kernelspec": {
   "display_name": "forpymol",
   "language": "python",
   "name": "python3"
  },
  "language_info": {
   "codemirror_mode": {
    "name": "ipython",
    "version": 3
   },
   "file_extension": ".py",
   "mimetype": "text/x-python",
   "name": "python",
   "nbconvert_exporter": "python",
   "pygments_lexer": "ipython3",
   "version": "3.7.13"
  },
  "toc": {
   "base_numbering": 1,
   "nav_menu": {},
   "number_sections": true,
   "sideBar": true,
   "skip_h1_title": false,
   "title_cell": "Table of Contents",
   "title_sidebar": "Contents",
   "toc_cell": false,
   "toc_position": {},
   "toc_section_display": true,
   "toc_window_display": false
  },
  "varInspector": {
   "cols": {
    "lenName": 16,
    "lenType": 16,
    "lenVar": 40
   },
   "kernels_config": {
    "python": {
     "delete_cmd_postfix": "",
     "delete_cmd_prefix": "del ",
     "library": "var_list.py",
     "varRefreshCmd": "print(var_dic_list())"
    },
    "r": {
     "delete_cmd_postfix": ") ",
     "delete_cmd_prefix": "rm(",
     "library": "var_list.r",
     "varRefreshCmd": "cat(var_dic_list()) "
    }
   },
   "types_to_exclude": [
    "module",
    "function",
    "builtin_function_or_method",
    "instance",
    "_Feature"
   ],
   "window_display": false
  },
  "vscode": {
   "interpreter": {
    "hash": "31f2aee4e71d21fbe5cf8b01ff0e069b9275f58929596ceb00d14d90e3e16cd6"
   }
  }
 },
 "nbformat": 4,
 "nbformat_minor": 5
}
